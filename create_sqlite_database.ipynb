{
 "nbformat": 4,
 "nbformat_minor": 2,
 "metadata": {
  "language_info": {
   "name": "python",
   "codemirror_mode": {
    "name": "ipython",
    "version": 3
   },
   "version": "3.7.7-final"
  },
  "orig_nbformat": 2,
  "file_extension": ".py",
  "mimetype": "text/x-python",
  "name": "python",
  "npconvert_exporter": "python",
  "pygments_lexer": "ipython3",
  "version": 3,
  "kernelspec": {
   "name": "python3",
   "display_name": "Python 3"
  }
 },
 "cells": [
  {
   "cell_type": "code",
   "execution_count": 2,
   "metadata": {},
   "outputs": [],
   "source": [
    "import os\n",
    "import sqlite3"
   ]
  },
  {
   "cell_type": "code",
   "execution_count": 3,
   "metadata": {},
   "outputs": [],
   "source": [
    "if os.path.exists('reviews.sqlite'):\n",
    "    os.remove('reviews.sqlite')"
   ]
  },
  {
   "cell_type": "code",
   "execution_count": 4,
   "metadata": {},
   "outputs": [],
   "source": [
    "conn = sqlite3.connect('reviews.sqlite')\n",
    "c = conn.cursor()"
   ]
  },
  {
   "cell_type": "code",
   "execution_count": 5,
   "metadata": {},
   "outputs": [
    {
     "output_type": "execute_result",
     "data": {
      "text/plain": "<sqlite3.Cursor at 0x1ca24876dc0>"
     },
     "metadata": {},
     "execution_count": 5
    }
   ],
   "source": [
    "c.execute('CREATE TABLE review_db'\\\n",
    "'(review TEXT, sentiment INTEGER, date TEXT)')"
   ]
  },
  {
   "cell_type": "code",
   "execution_count": 7,
   "metadata": {},
   "outputs": [
    {
     "output_type": "execute_result",
     "data": {
      "text/plain": "<sqlite3.Cursor at 0x1ca24876dc0>"
     },
     "metadata": {},
     "execution_count": 7
    }
   ],
   "source": [
    "example1 = 'I love this movie'\n",
    "c.execute(\"INSERT INTO review_db\"\\\n",
    "\"(review, sentiment, date) VALUES\"\\\n",
    "\"(?, ?, DATETIME('now'))\", (example1, 1))"
   ]
  },
  {
   "cell_type": "code",
   "execution_count": 8,
   "metadata": {},
   "outputs": [
    {
     "output_type": "execute_result",
     "data": {
      "text/plain": "<sqlite3.Cursor at 0x1ca24876dc0>"
     },
     "metadata": {},
     "execution_count": 8
    }
   ],
   "source": [
    "example2 = 'I disliked this movie'\n",
    "c.execute(\"INSERT INTO review_db\"\\\n",
    "\"(review, sentiment, date) VALUES\"\\\n",
    "\"(?, ?, DATETIME('now'))\", (example2, 0))"
   ]
  },
  {
   "cell_type": "code",
   "execution_count": 9,
   "metadata": {},
   "outputs": [],
   "source": [
    "conn.commit()\n",
    "conn.close()"
   ]
  },
  {
   "cell_type": "markdown",
   "metadata": {},
   "source": [
    "Following the preceding code example, we created a connection (conn) to a SQLite\n",
    "database file by calling the connect method of the sqlite3 library, which created\n",
    "the new database file reviews.sqlite in the movieclassifier directory if it didn't\n",
    "already exist. Please note that SQLite doesn't implement a replace function for\n",
    "existing tables; you need to delete the database file manually from your file browser\n",
    "if you want to execute the code a second time.\n",
    "Next, we created a cursor via the cursor method, which allows us to traverse over\n",
    "the database records using the versatile SQL syntax. Via the first execute call, we\n",
    "then created a new database table, review_db. We used this to store and access\n",
    "database entries. Along with review_db, we also created three columns in this\n",
    "database table: review, sentiment, and date. We used these to store two example\n",
    "movie reviews and respective class labels (sentiments).\n",
    "Using the DATETIME('now') SQL command, we also added date and timestamps to\n",
    "our entries. In addition to the timestamps, we used the question mark symbols (?) to\n",
    "pass the movie review texts (example1 and example2) and the corresponding class\n",
    "labels (1 and 0) as positional arguments to the execute method, as members of a\n",
    "tuple. Lastly, we called the commit method to save the changes that we made to the\n",
    "database and closed the connection via the close method.\n",
    "To check if the entries have been stored in the database table correctly, we will now\n",
    "reopen the connection to the database and use the SQL SELECT command to fetch all\n",
    "rows in the database table that have been committed between the beginning of the\n",
    "year 2017 and today:"
   ]
  },
  {
   "cell_type": "code",
   "execution_count": 10,
   "metadata": {},
   "outputs": [],
   "source": [
    "conn = sqlite3.connect('reviews.sqlite')\n",
    "c = conn.cursor()"
   ]
  },
  {
   "cell_type": "code",
   "execution_count": 13,
   "metadata": {},
   "outputs": [],
   "source": [
    "c.execute(\"SELECT * FROM review_db WHERE date\"\\\n",
    "\" BETWEEN '2017-01-01 00:00:00' AND DATETIME('now')\")\n",
    "results = c.fetchall()"
   ]
  },
  {
   "cell_type": "code",
   "execution_count": 14,
   "metadata": {},
   "outputs": [
    {
     "output_type": "stream",
     "name": "stdout",
     "text": "[('I love this movie', 1, '2020-04-25 15:24:45'), ('I disliked this movie', 0, '2020-04-25 15:26:38')]\n"
    }
   ],
   "source": [
    "conn.close()\n",
    "print(results)"
   ]
  },
  {
   "cell_type": "code",
   "execution_count": null,
   "metadata": {},
   "outputs": [],
   "source": []
  }
 ]
}