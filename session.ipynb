{
 "nbformat": 4,
 "nbformat_minor": 2,
 "metadata": {
  "language_info": {
   "name": "python",
   "codemirror_mode": {
    "name": "ipython",
    "version": 3
   },
   "version": "3.7.7-final"
  },
  "orig_nbformat": 2,
  "file_extension": ".py",
  "mimetype": "text/x-python",
  "name": "python",
  "npconvert_exporter": "python",
  "pygments_lexer": "ipython3",
  "version": 3,
  "kernelspec": {
   "name": "python3",
   "display_name": "Python 3"
  }
 },
 "cells": [
  {
   "cell_type": "markdown",
   "metadata": {},
   "source": [
    "navigate to the movieclassifier directory, start a new Python\n",
    "session and execute the following code to verify that you can import the vectorizer\n",
    "and unpickle the classifier:"
   ]
  },
  {
   "cell_type": "code",
   "execution_count": 2,
   "metadata": {},
   "outputs": [],
   "source": [
    "import pickle\n",
    "import os\n",
    "from vectorizer import vect\n",
    "clf = pickle.load(open(os.path.join('pkl_objects', 'classifier.pkl'), 'rb'))"
   ]
  },
  {
   "cell_type": "markdown",
   "metadata": {},
   "source": [
    "After we have successfully loaded the vectorizer and unpickled the classifier, we\n",
    "can now use these objects to preprocess document samples and make predictions\n",
    "about their sentiment"
   ]
  },
  {
   "cell_type": "code",
   "execution_count": 7,
   "metadata": {},
   "outputs": [
    {
     "output_type": "stream",
     "name": "stdout",
     "text": "Prediction: positive\nProbability: 81.44%\n"
    }
   ],
   "source": [
    "import numpy as np\n",
    "label = {0:'negative', 1:'positive'}\n",
    "example = ['I love this movie']\n",
    "X = vect.transform(example)\n",
    "print('Prediction: %s\\nProbability: %.2f%%' %\\\n",
    "(label[clf.predict(X)[0]],\n",
    "np.max(clf.predict_proba(X))*100))"
   ]
  },
  {
   "cell_type": "markdown",
   "metadata": {},
   "source": [
    "Since our classifier returns the class labels as integers, we defined a simple Python\n",
    "dictionary to map these integers to their sentiment. We then usedHashingVectorizer to transform the simple example document into a word vector X.\n",
    "Finally, we used the predict method of the logistic regression classifier to predict\n",
    "the class label, as well as the predict_proba method to return the corresponding\n",
    "probability of our prediction. Note that the predict_proba method call returns an\n",
    "array with a probability value for each unique class label. Since the class label with\n",
    "the largest probability corresponds to the class label that is returned by the predict\n",
    "call, we used the np.max function to return the probability of the predicted class."
   ]
  },
  {
   "cell_type": "code",
   "execution_count": null,
   "metadata": {},
   "outputs": [],
   "source": []
  }
 ]
}